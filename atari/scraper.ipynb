{
 "cells": [
  {
   "cell_type": "code",
   "execution_count": 1,
   "metadata": {},
   "outputs": [],
   "source": [
    "import requests\n",
    "from bs4 import BeautifulSoup\n"
   ]
  },
  {
   "cell_type": "code",
   "execution_count": 2,
   "metadata": {},
   "outputs": [],
   "source": [
    "URL = \"https://gymnasium.farama.org/environments/atari/\"\n",
    "response = requests.get(URL)\n",
    "soup = BeautifulSoup(response.text, \"html.parser\")\n"
   ]
  },
  {
   "cell_type": "code",
   "execution_count": 3,
   "metadata": {},
   "outputs": [],
   "source": [
    "games = {}\n",
    "\n",
    "table = soup.find(id=\"flavors\").find(\"table\")\n",
    "rows = table.find_all(\"tr\")\n",
    "for row in rows:\n",
    "    cells = row.find_all(\"td\")\n",
    "    if len(cells) == 0:\n",
    "        continue\n",
    "\n",
    "    data = {}\n",
    "    name = cells[0].text\n",
    "\n",
    "    modes = cells[1].text.strip().replace(\"[\", \"\").replace(\"]\", \"\").split(\", \")\n",
    "    difficulties = cells[3].text.strip().replace(\"[\", \"\").replace(\"]\", \"\").split(\", \")\n",
    "\n",
    "    default_mode = cells[2].text\n",
    "    default_difficulty = cells[4].text\n",
    "\n",
    "    games[name.lower()] = {\n",
    "        \"name\": name,\n",
    "        \"modes\": modes,\n",
    "        \"default_mode\": default_mode,\n",
    "        \"difficulties\": difficulties,\n",
    "        \"default_difficulty\": default_difficulty,\n",
    "    }\n"
   ]
  },
  {
   "cell_type": "code",
   "execution_count": 4,
   "metadata": {},
   "outputs": [],
   "source": [
    "URL = \"https://gymnasium.farama.org/environments/atari/complete_list/\"\n",
    "response = requests.get(URL)\n",
    "soup = BeautifulSoup(response.text, \"html.parser\")\n"
   ]
  },
  {
   "cell_type": "code",
   "execution_count": 5,
   "metadata": {},
   "outputs": [],
   "source": [
    "section = soup.find(id=\"complete-list-atari\").find(class_=\"env-grid\")\n",
    "anchors = section.find_all(\"a\")\n",
    "\n",
    "for anchor in anchors:\n",
    "    title = anchor.find(class_=\"cell__title\").text.lower().strip()\n",
    "    name = title.replace(\" \", \"\")\n",
    "    slug = title.replace(\" \", \"_\")\n",
    "    games[name][\"url\"] = URL + anchor[\"href\"]\n",
    "    games[name][\"slug\"] = slug\n"
   ]
  },
  {
   "cell_type": "code",
   "execution_count": 6,
   "metadata": {},
   "outputs": [
    {
     "name": "stdout",
     "output_type": "stream",
     "text": [
      "{'adventure': {'name': 'Adventure', 'modes': ['0', '1', '2'], 'default_mode': '0', 'difficulties': ['0', '1', '2', '3'], 'default_difficulty': '0', 'url': 'https://gymnasium.farama.org/environments/atari/complete_list/../adventure', 'slug': 'adventure'}, 'airraid': {'name': 'AirRaid', 'modes': ['1', '…', '8'], 'default_mode': '1', 'difficulties': ['0'], 'default_difficulty': '0', 'url': 'https://gymnasium.farama.org/environments/atari/complete_list/../air_raid', 'slug': 'air_raid'}, 'alien': {'name': 'Alien', 'modes': ['0', '1', '2', '3'], 'default_mode': '0', 'difficulties': ['0', '1', '2', '3'], 'default_difficulty': '0', 'url': 'https://gymnasium.farama.org/environments/atari/complete_list/../alien', 'slug': 'alien'}, 'amidar': {'name': 'Amidar', 'modes': ['0'], 'default_mode': '0', 'difficulties': ['0', '3'], 'default_difficulty': '0', 'url': 'https://gymnasium.farama.org/environments/atari/complete_list/../amidar', 'slug': 'amidar'}, 'assault': {'name': 'Assault', 'modes': ['0'], 'default_mode': '0', 'difficulties': ['0'], 'default_difficulty': '0', 'url': 'https://gymnasium.farama.org/environments/atari/complete_list/../assault', 'slug': 'assault'}, 'asterix': {'name': 'Asterix', 'modes': ['0'], 'default_mode': '0', 'difficulties': ['0'], 'default_difficulty': '0', 'url': 'https://gymnasium.farama.org/environments/atari/complete_list/../asterix', 'slug': 'asterix'}, 'asteroids': {'name': 'Asteroids', 'modes': ['0', '…', '31', '128'], 'default_mode': '0', 'difficulties': ['0', '3'], 'default_difficulty': '0', 'url': 'https://gymnasium.farama.org/environments/atari/complete_list/../asteroids', 'slug': 'asteroids'}, 'atlantis': {'name': 'Atlantis', 'modes': ['0', '1', '2', '3'], 'default_mode': '0', 'difficulties': ['0'], 'default_difficulty': '0', 'url': 'https://gymnasium.farama.org/environments/atari/complete_list/../atlantis', 'slug': 'atlantis'}, 'atlantis2': {'name': 'Atlantis2', 'modes': ['0'], 'default_mode': '0', 'difficulties': ['0'], 'default_difficulty': '0', 'url': 'https://gymnasium.farama.org/environments/atari/complete_list/../atlantis2', 'slug': 'atlantis2'}, 'backgammon': {'name': 'Backgammon', 'modes': ['0'], 'default_mode': '0', 'difficulties': ['3'], 'default_difficulty': '0', 'url': 'https://gymnasium.farama.org/environments/atari/complete_list/../backgammon', 'slug': 'backgammon'}, 'bankheist': {'name': 'BankHeist', 'modes': ['0', '4', '8', '12', '16', '20', '24', '28'], 'default_mode': '0', 'difficulties': ['0', '1', '2', '3'], 'default_difficulty': '0', 'url': 'https://gymnasium.farama.org/environments/atari/complete_list/../bank_heist', 'slug': 'bank_heist'}, 'basicmath': {'name': 'BasicMath', 'modes': ['5', '6', '7', '8'], 'default_mode': '5', 'difficulties': ['0', '2', '3'], 'default_difficulty': '0', 'url': 'https://gymnasium.farama.org/environments/atari/complete_list/../basic_math', 'slug': 'basic_math'}, 'battlezone': {'name': 'BattleZone', 'modes': ['1', '2', '3'], 'default_mode': '1', 'difficulties': ['0'], 'default_difficulty': '0', 'url': 'https://gymnasium.farama.org/environments/atari/complete_list/../battle_zone', 'slug': 'battle_zone'}, 'beamrider': {'name': 'BeamRider', 'modes': ['0'], 'default_mode': '0', 'difficulties': ['0', '1'], 'default_difficulty': '0', 'url': 'https://gymnasium.farama.org/environments/atari/complete_list/../beam_rider', 'slug': 'beam_rider'}, 'berzerk': {'name': 'Berzerk', 'modes': ['1', '…', '9', '16', '17', '18'], 'default_mode': '1', 'difficulties': ['0'], 'default_difficulty': '0', 'url': 'https://gymnasium.farama.org/environments/atari/complete_list/../berzerk', 'slug': 'berzerk'}, 'blackjack': {'name': 'Blackjack', 'modes': ['0'], 'default_mode': '0', 'difficulties': ['0', '1', '2', '3'], 'default_difficulty': '0', 'url': 'https://gymnasium.farama.org/environments/atari/complete_list/../blackjack', 'slug': 'blackjack'}, 'bowling': {'name': 'Bowling', 'modes': ['0', '2', '4'], 'default_mode': '0', 'difficulties': ['0', '1'], 'default_difficulty': '0', 'url': 'https://gymnasium.farama.org/environments/atari/complete_list/../bowling', 'slug': 'bowling'}, 'boxing': {'name': 'Boxing', 'modes': ['0'], 'default_mode': '0', 'difficulties': ['0', '1', '2', '3'], 'default_difficulty': '0', 'url': 'https://gymnasium.farama.org/environments/atari/complete_list/../boxing', 'slug': 'boxing'}, 'breakout': {'name': 'Breakout', 'modes': ['0', '4', '8', '12', '16', '20', '24', '28', '32', '36', '40', '44'], 'default_mode': '0', 'difficulties': ['0', '1'], 'default_difficulty': '0', 'url': 'https://gymnasium.farama.org/environments/atari/complete_list/../breakout', 'slug': 'breakout'}, 'carnival': {'name': 'Carnival', 'modes': ['0'], 'default_mode': '0', 'difficulties': ['0'], 'default_difficulty': '0', 'url': 'https://gymnasium.farama.org/environments/atari/complete_list/../carnival', 'slug': 'carnival'}, 'casino': {'name': 'Casino', 'modes': ['0', '2', '3'], 'default_mode': '0', 'difficulties': ['0', '1', '2', '3'], 'default_difficulty': '0', 'url': 'https://gymnasium.farama.org/environments/atari/complete_list/../casino', 'slug': 'casino'}, 'centipede': {'name': 'Centipede', 'modes': ['22', '86'], 'default_mode': '22', 'difficulties': ['0'], 'default_difficulty': '0', 'url': 'https://gymnasium.farama.org/environments/atari/complete_list/../centipede', 'slug': 'centipede'}, 'choppercommand': {'name': 'ChopperCommand', 'modes': ['0', '2'], 'default_mode': '0', 'difficulties': ['0', '1'], 'default_difficulty': '0', 'url': 'https://gymnasium.farama.org/environments/atari/complete_list/../chopper_command', 'slug': 'chopper_command'}, 'crazyclimber': {'name': 'CrazyClimber', 'modes': ['0', '1', '2', '3'], 'default_mode': '0', 'difficulties': ['0', '1'], 'default_difficulty': '0', 'url': 'https://gymnasium.farama.org/environments/atari/complete_list/../crazy_climber', 'slug': 'crazy_climber'}, 'crossbow': {'name': 'Crossbow', 'modes': ['0', '2', '4', '6'], 'default_mode': '0', 'difficulties': ['0', '1'], 'default_difficulty': '0', 'url': 'https://gymnasium.farama.org/environments/atari/complete_list/../crossbow', 'slug': 'crossbow'}, 'darkchambers': {'name': 'Darkchambers', 'modes': ['0'], 'default_mode': '0', 'difficulties': ['0'], 'default_difficulty': '0', 'url': 'https://gymnasium.farama.org/environments/atari/complete_list/../darkchambers', 'slug': 'darkchambers'}, 'defender': {'name': 'Defender', 'modes': ['1', '…', '9', '16'], 'default_mode': '1', 'difficulties': ['0', '1'], 'default_difficulty': '0', 'url': 'https://gymnasium.farama.org/environments/atari/complete_list/../defender', 'slug': 'defender'}, 'demonattack': {'name': 'DemonAttack', 'modes': ['1', '3', '5', '7'], 'default_mode': '1', 'difficulties': ['0', '1'], 'default_difficulty': '0', 'url': 'https://gymnasium.farama.org/environments/atari/complete_list/../demon_attack', 'slug': 'demon_attack'}, 'donkeykong': {'name': 'DonkeyKong', 'modes': ['0'], 'default_mode': '0', 'difficulties': ['0'], 'default_difficulty': '0', 'url': 'https://gymnasium.farama.org/environments/atari/complete_list/../donkey_kong', 'slug': 'donkey_kong'}, 'doubledunk': {'name': 'DoubleDunk', 'modes': ['0', '…', '15'], 'default_mode': '0', 'difficulties': ['0'], 'default_difficulty': '0', 'url': 'https://gymnasium.farama.org/environments/atari/complete_list/../double_dunk', 'slug': 'double_dunk'}, 'earthworld': {'name': 'Earthworld', 'modes': ['0'], 'default_mode': '0', 'difficulties': ['0'], 'default_difficulty': '0', 'url': 'https://gymnasium.farama.org/environments/atari/complete_list/../earthworld', 'slug': 'earthworld'}, 'elevatoraction': {'name': 'ElevatorAction', 'modes': ['0'], 'default_mode': '0', 'difficulties': ['0'], 'default_difficulty': '0', 'url': 'https://gymnasium.farama.org/environments/atari/complete_list/../elevator_action', 'slug': 'elevator_action'}, 'enduro': {'name': 'Enduro', 'modes': ['0'], 'default_mode': '0', 'difficulties': ['0'], 'default_difficulty': '0', 'url': 'https://gymnasium.farama.org/environments/atari/complete_list/../enduro', 'slug': 'enduro'}, 'entombed': {'name': 'Entombed', 'modes': ['0'], 'default_mode': '0', 'difficulties': ['0', '2'], 'default_difficulty': '0', 'url': 'https://gymnasium.farama.org/environments/atari/complete_list/../entombed', 'slug': 'entombed'}, 'et': {'name': 'Et', 'modes': ['0', '1', '2'], 'default_mode': '0', 'difficulties': ['0', '1', '2', '3'], 'default_difficulty': '0', 'url': 'https://gymnasium.farama.org/environments/atari/complete_list/../et', 'slug': 'et'}, 'fishingderby': {'name': 'FishingDerby', 'modes': ['0'], 'default_mode': '0', 'difficulties': ['0', '1', '2', '3'], 'default_difficulty': '0', 'url': 'https://gymnasium.farama.org/environments/atari/complete_list/../fishing_derby', 'slug': 'fishing_derby'}, 'flagcapture': {'name': 'FlagCapture', 'modes': ['8', '9', '10'], 'default_mode': '8', 'difficulties': ['0'], 'default_difficulty': '0', 'url': 'https://gymnasium.farama.org/environments/atari/complete_list/../flag_capture', 'slug': 'flag_capture'}, 'freeway': {'name': 'Freeway', 'modes': ['0', '…', '7'], 'default_mode': '0', 'difficulties': ['0', '1'], 'default_difficulty': '0', 'url': 'https://gymnasium.farama.org/environments/atari/complete_list/../freeway', 'slug': 'freeway'}, 'frogger': {'name': 'Frogger', 'modes': ['0', '1', '2'], 'default_mode': '0', 'difficulties': ['0', '1'], 'default_difficulty': '0', 'url': 'https://gymnasium.farama.org/environments/atari/complete_list/../frogger', 'slug': 'frogger'}, 'frostbite': {'name': 'Frostbite', 'modes': ['0', '2'], 'default_mode': '0', 'difficulties': ['0'], 'default_difficulty': '0', 'url': 'https://gymnasium.farama.org/environments/atari/complete_list/../frostbite', 'slug': 'frostbite'}, 'galaxian': {'name': 'Galaxian', 'modes': ['1', '…', '9'], 'default_mode': '1', 'difficulties': ['0', '1'], 'default_difficulty': '0', 'url': 'https://gymnasium.farama.org/environments/atari/complete_list/../galaxian', 'slug': 'galaxian'}, 'gopher': {'name': 'Gopher', 'modes': ['0', '2'], 'default_mode': '0', 'difficulties': ['0', '1'], 'default_difficulty': '0', 'url': 'https://gymnasium.farama.org/environments/atari/complete_list/../gopher', 'slug': 'gopher'}, 'gravitar': {'name': 'Gravitar', 'modes': ['0', '1', '2', '3', '4'], 'default_mode': '0', 'difficulties': ['0'], 'default_difficulty': '0', 'url': 'https://gymnasium.farama.org/environments/atari/complete_list/../gravitar', 'slug': 'gravitar'}, 'hangman': {'name': 'Hangman', 'modes': ['0', '1', '2', '3'], 'default_mode': '0', 'difficulties': ['0', '1'], 'default_difficulty': '0', 'url': 'https://gymnasium.farama.org/environments/atari/complete_list/../hangman', 'slug': 'hangman'}, 'hauntedhouse': {'name': 'HauntedHouse', 'modes': ['0', '…', '8'], 'default_mode': '0', 'difficulties': ['0', '1'], 'default_difficulty': '0', 'url': 'https://gymnasium.farama.org/environments/atari/complete_list/../haunted_house', 'slug': 'haunted_house'}, 'hero': {'name': 'Hero', 'modes': ['0', '1', '2', '3', '4'], 'default_mode': '0', 'difficulties': ['0'], 'default_difficulty': '0', 'url': 'https://gymnasium.farama.org/environments/atari/complete_list/../hero', 'slug': 'hero'}, 'humancannonball': {'name': 'HumanCannonball', 'modes': ['0', '…', '7'], 'default_mode': '0', 'difficulties': ['0', '1'], 'default_difficulty': '0', 'url': 'https://gymnasium.farama.org/environments/atari/complete_list/../human_cannonball', 'slug': 'human_cannonball'}, 'icehockey': {'name': 'IceHockey', 'modes': ['0', '2'], 'default_mode': '0', 'difficulties': ['0', '1', '2', '3'], 'default_difficulty': '0', 'url': 'https://gymnasium.farama.org/environments/atari/complete_list/../ice_hockey', 'slug': 'ice_hockey'}, 'jamesbond': {'name': 'Jamesbond', 'modes': ['0', '1'], 'default_mode': '0', 'difficulties': ['0'], 'default_difficulty': '0', 'url': 'https://gymnasium.farama.org/environments/atari/complete_list/../jamesbond', 'slug': 'jamesbond'}, 'journeyescape': {'name': 'JourneyEscape', 'modes': ['0'], 'default_mode': '0', 'difficulties': ['0', '1'], 'default_difficulty': '0', 'url': 'https://gymnasium.farama.org/environments/atari/complete_list/../journey_escape', 'slug': 'journey_escape'}, 'kaboom': {'name': 'Kaboom', 'modes': ['0'], 'default_mode': '0', 'difficulties': ['0'], 'default_difficulty': '0', 'url': 'https://gymnasium.farama.org/environments/atari/complete_list/../kaboom', 'slug': 'kaboom'}, 'kangaroo': {'name': 'Kangaroo', 'modes': ['0', '1'], 'default_mode': '0', 'difficulties': ['0'], 'default_difficulty': '0', 'url': 'https://gymnasium.farama.org/environments/atari/complete_list/../kangaroo', 'slug': 'kangaroo'}, 'keystonekapers': {'name': 'KeystoneKapers', 'modes': ['0'], 'default_mode': '0', 'difficulties': ['0'], 'default_difficulty': '0', 'url': 'https://gymnasium.farama.org/environments/atari/complete_list/../keystone_kapers', 'slug': 'keystone_kapers'}, 'kingkong': {'name': 'KingKong', 'modes': ['0', '1', '2', '3'], 'default_mode': '0', 'difficulties': ['0'], 'default_difficulty': '0', 'url': 'https://gymnasium.farama.org/environments/atari/complete_list/../king_kong', 'slug': 'king_kong'}, 'klax': {'name': 'Klax', 'modes': ['0', '1', '2'], 'default_mode': '0', 'difficulties': ['0'], 'default_difficulty': '0', 'url': 'https://gymnasium.farama.org/environments/atari/complete_list/../klax', 'slug': 'klax'}, 'koolaid': {'name': 'Koolaid', 'modes': ['0'], 'default_mode': '0', 'difficulties': ['0'], 'default_difficulty': '0', 'url': 'https://gymnasium.farama.org/environments/atari/complete_list/../koolaid', 'slug': 'koolaid'}, 'krull': {'name': 'Krull', 'modes': ['0'], 'default_mode': '0', 'difficulties': ['0'], 'default_difficulty': '0', 'url': 'https://gymnasium.farama.org/environments/atari/complete_list/../krull', 'slug': 'krull'}, 'kungfumaster': {'name': 'KungFuMaster', 'modes': ['0'], 'default_mode': '0', 'difficulties': ['0'], 'default_difficulty': '0', 'url': 'https://gymnasium.farama.org/environments/atari/complete_list/../kung_fu_master', 'slug': 'kung_fu_master'}, 'lasergates': {'name': 'LaserGates', 'modes': ['0'], 'default_mode': '0', 'difficulties': ['0'], 'default_difficulty': '0', 'url': 'https://gymnasium.farama.org/environments/atari/complete_list/../laser_gates', 'slug': 'laser_gates'}, 'lostluggage': {'name': 'LostLuggage', 'modes': ['0', '1'], 'default_mode': '0', 'difficulties': ['0', '1'], 'default_difficulty': '0', 'url': 'https://gymnasium.farama.org/environments/atari/complete_list/../lost_luggage', 'slug': 'lost_luggage'}, 'mariobros': {'name': 'MarioBros', 'modes': ['0', '2', '4', '6'], 'default_mode': '0', 'difficulties': ['0'], 'default_difficulty': '0', 'url': 'https://gymnasium.farama.org/environments/atari/complete_list/../mario_bros', 'slug': 'mario_bros'}, 'miniaturegolf': {'name': 'MiniatureGolf', 'modes': ['0'], 'default_mode': '0', 'difficulties': ['0', '1'], 'default_difficulty': '0', 'url': 'https://gymnasium.farama.org/environments/atari/complete_list/../miniature_golf', 'slug': 'miniature_golf'}, 'montezumarevenge': {'name': 'MontezumaRevenge', 'modes': ['0'], 'default_mode': '0', 'difficulties': ['0'], 'default_difficulty': '0', 'url': 'https://gymnasium.farama.org/environments/atari/complete_list/../montezuma_revenge', 'slug': 'montezuma_revenge'}, 'mrdo': {'name': 'MrDo', 'modes': ['0', '1', '2', '3'], 'default_mode': '0', 'difficulties': ['0'], 'default_difficulty': '0', 'url': 'https://gymnasium.farama.org/environments/atari/complete_list/../mr_do', 'slug': 'mr_do'}, 'mspacman': {'name': 'MsPacman', 'modes': ['0', '1', '2', '3'], 'default_mode': '0', 'difficulties': ['0'], 'default_difficulty': '0', 'url': 'https://gymnasium.farama.org/environments/atari/complete_list/../ms_pacman', 'slug': 'ms_pacman'}, 'namethisgame': {'name': 'NameThisGame', 'modes': ['8', '24', '40'], 'default_mode': '8', 'difficulties': ['0', '1'], 'default_difficulty': '0', 'url': 'https://gymnasium.farama.org/environments/atari/complete_list/../name_this_game', 'slug': 'name_this_game'}, 'othello': {'name': 'Othello', 'modes': ['0', '1', '2'], 'default_mode': '0', 'difficulties': ['0', '2'], 'default_difficulty': '0', 'url': 'https://gymnasium.farama.org/environments/atari/complete_list/../othello', 'slug': 'othello'}, 'pacman': {'name': 'Pacman', 'modes': ['0', '…', '7'], 'default_mode': '0', 'difficulties': ['0', '1'], 'default_difficulty': '0', 'url': 'https://gymnasium.farama.org/environments/atari/complete_list/../pacman', 'slug': 'pacman'}, 'phoenix': {'name': 'Phoenix', 'modes': ['0'], 'default_mode': '0', 'difficulties': ['0'], 'default_difficulty': '0', 'url': 'https://gymnasium.farama.org/environments/atari/complete_list/../phoenix', 'slug': 'phoenix'}, 'pitfall': {'name': 'Pitfall', 'modes': ['0'], 'default_mode': '0', 'difficulties': ['0'], 'default_difficulty': '0', 'url': 'https://gymnasium.farama.org/environments/atari/complete_list/../pitfall', 'slug': 'pitfall'}, 'pitfall2': {'name': 'Pitfall2', 'modes': ['0'], 'default_mode': '0', 'difficulties': ['0'], 'default_difficulty': '0', 'url': 'https://gymnasium.farama.org/environments/atari/complete_list/../pitfall2', 'slug': 'pitfall2'}, 'pong': {'name': 'Pong', 'modes': ['0', '1'], 'default_mode': '0', 'difficulties': ['0', '1', '2', '3'], 'default_difficulty': '0', 'url': 'https://gymnasium.farama.org/environments/atari/complete_list/../pong', 'slug': 'pong'}, 'pooyan': {'name': 'Pooyan', 'modes': ['10', '30', '50', '70'], 'default_mode': '10', 'difficulties': ['0'], 'default_difficulty': '0', 'url': 'https://gymnasium.farama.org/environments/atari/complete_list/../pooyan', 'slug': 'pooyan'}, 'privateeye': {'name': 'PrivateEye', 'modes': ['0', '1', '2', '3', '4'], 'default_mode': '0', 'difficulties': ['0', '1', '2', '3'], 'default_difficulty': '0', 'url': 'https://gymnasium.farama.org/environments/atari/complete_list/../private_eye', 'slug': 'private_eye'}, 'qbert': {'name': 'Qbert', 'modes': ['0'], 'default_mode': '0', 'difficulties': ['0', '1'], 'default_difficulty': '0', 'url': 'https://gymnasium.farama.org/environments/atari/complete_list/../qbert', 'slug': 'qbert'}, 'riverraid': {'name': 'Riverraid', 'modes': ['0'], 'default_mode': '0', 'difficulties': ['0', '1'], 'default_difficulty': '0', 'url': 'https://gymnasium.farama.org/environments/atari/complete_list/../riverraid', 'slug': 'riverraid'}, 'roadrunner': {'name': 'RoadRunner', 'modes': ['0'], 'default_mode': '0', 'difficulties': ['0'], 'default_difficulty': '0', 'url': 'https://gymnasium.farama.org/environments/atari/complete_list/../road_runner', 'slug': 'road_runner'}, 'robotank': {'name': 'Robotank', 'modes': ['0'], 'default_mode': '0', 'difficulties': ['0'], 'default_difficulty': '0', 'url': 'https://gymnasium.farama.org/environments/atari/complete_list/../robotank', 'slug': 'robotank'}, 'seaquest': {'name': 'Seaquest', 'modes': ['0'], 'default_mode': '0', 'difficulties': ['0', '1'], 'default_difficulty': '0', 'url': 'https://gymnasium.farama.org/environments/atari/complete_list/../seaquest', 'slug': 'seaquest'}, 'sirlancelot': {'name': 'SirLancelot', 'modes': ['0'], 'default_mode': '0', 'difficulties': ['0'], 'default_difficulty': '0', 'url': 'https://gymnasium.farama.org/environments/atari/complete_list/../sir_lancelot', 'slug': 'sir_lancelot'}, 'skiing': {'name': 'Skiing', 'modes': ['0'], 'default_mode': '0', 'difficulties': ['0'], 'default_difficulty': '0', 'url': 'https://gymnasium.farama.org/environments/atari/complete_list/../skiing', 'slug': 'skiing'}, 'solaris': {'name': 'Solaris', 'modes': ['0'], 'default_mode': '0', 'difficulties': ['0'], 'default_difficulty': '0', 'url': 'https://gymnasium.farama.org/environments/atari/complete_list/../solaris', 'slug': 'solaris'}, 'spaceinvaders': {'name': 'SpaceInvaders', 'modes': ['0', '…', '15'], 'default_mode': '0', 'difficulties': ['0', '1'], 'default_difficulty': '0', 'url': 'https://gymnasium.farama.org/environments/atari/complete_list/../space_invaders', 'slug': 'space_invaders'}, 'spacewar': {'name': 'SpaceWar', 'modes': ['6', '…', '17'], 'default_mode': '6', 'difficulties': ['0'], 'default_difficulty': '0', 'url': 'https://gymnasium.farama.org/environments/atari/complete_list/../space_war', 'slug': 'space_war'}, 'stargunner': {'name': 'StarGunner', 'modes': ['0', '1', '2', '3'], 'default_mode': '0', 'difficulties': ['0'], 'default_difficulty': '0', 'url': 'https://gymnasium.farama.org/environments/atari/complete_list/../star_gunner', 'slug': 'star_gunner'}, 'superman': {'name': 'Superman', 'modes': ['0'], 'default_mode': '0', 'difficulties': ['0', '1', '2', '3'], 'default_difficulty': '0', 'url': 'https://gymnasium.farama.org/environments/atari/complete_list/../superman', 'slug': 'superman'}, 'surround': {'name': 'Surround', 'modes': ['0', '2'], 'default_mode': '0', 'difficulties': ['0', '1', '2', '3'], 'default_difficulty': '0', 'url': 'https://gymnasium.farama.org/environments/atari/complete_list/../surround', 'slug': 'surround'}, 'tennis': {'name': 'Tennis', 'modes': ['0', '2'], 'default_mode': '0', 'difficulties': ['0', '1', '2', '3'], 'default_difficulty': '0', 'url': 'https://gymnasium.farama.org/environments/atari/complete_list/../tennis', 'slug': 'tennis'}, 'tetris': {'name': 'Tetris', 'modes': ['0'], 'default_mode': '0', 'difficulties': ['0'], 'default_difficulty': '0', 'url': 'https://gymnasium.farama.org/environments/atari/complete_list/../tetris', 'slug': 'tetris'}, 'tictactoe3d': {'name': 'TicTacToe3D', 'modes': ['0', '…', '8'], 'default_mode': '0', 'difficulties': ['0', '2'], 'default_difficulty': '0', 'url': 'https://gymnasium.farama.org/environments/atari/complete_list/../tic_tac_toe_3d', 'slug': 'tic_tac_toe_3d'}, 'timepilot': {'name': 'TimePilot', 'modes': ['0'], 'default_mode': '0', 'difficulties': ['0', '1', '2'], 'default_difficulty': '0', 'url': 'https://gymnasium.farama.org/environments/atari/complete_list/../time_pilot', 'slug': 'time_pilot'}, 'trondead': {'name': 'Trondead', 'modes': ['0'], 'default_mode': '0', 'difficulties': ['0', '1'], 'default_difficulty': '0', 'url': 'https://gymnasium.farama.org/environments/atari/complete_list/../trondead', 'slug': 'trondead'}, 'turmoil': {'name': 'Turmoil', 'modes': ['0', '…', '8'], 'default_mode': '0', 'difficulties': ['0'], 'default_difficulty': '0', 'url': 'https://gymnasium.farama.org/environments/atari/complete_list/../turmoil', 'slug': 'turmoil'}, 'tutankham': {'name': 'Tutankham', 'modes': ['0', '4', '8', '12'], 'default_mode': '0', 'difficulties': ['0'], 'default_difficulty': '0', 'url': 'https://gymnasium.farama.org/environments/atari/complete_list/../tutankham', 'slug': 'tutankham'}, 'upndown': {'name': 'UpNDown', 'modes': ['0'], 'default_mode': '0', 'difficulties': ['0', '1', '2', '3'], 'default_difficulty': '0', 'url': 'https://gymnasium.farama.org/environments/atari/complete_list/../up_n_down', 'slug': 'up_n_down'}, 'venture': {'name': 'Venture', 'modes': ['0'], 'default_mode': '0', 'difficulties': ['0', '1', '2', '3'], 'default_difficulty': '0', 'url': 'https://gymnasium.farama.org/environments/atari/complete_list/../venture', 'slug': 'venture'}, 'videocheckers': {'name': 'VideoCheckers', 'modes': ['1', '…', '9', '11', '…', '19'], 'default_mode': '1', 'difficulties': ['0'], 'default_difficulty': '0', 'url': 'https://gymnasium.farama.org/environments/atari/complete_list/../video_checkers', 'slug': 'video_checkers'}, 'videochess': {'name': 'VideoChess', 'modes': ['0', '1', '2', '3', '4'], 'default_mode': '0', 'difficulties': ['0'], 'default_difficulty': '0', 'url': 'https://gymnasium.farama.org/environments/atari/complete_list/../video_chess', 'slug': 'video_chess'}, 'videocube': {'name': 'VideoCube', 'modes': ['0', '1', '2', '100', '101', '102', '…', '5000', '5001', '5002'], 'default_mode': '0', 'difficulties': ['0', '1'], 'default_difficulty': '0', 'url': 'https://gymnasium.farama.org/environments/atari/complete_list/../video_cube', 'slug': 'video_cube'}, 'videopinball': {'name': 'VideoPinball', 'modes': ['0', '2'], 'default_mode': '0', 'difficulties': ['0', '1'], 'default_difficulty': '0', 'url': 'https://gymnasium.farama.org/environments/atari/complete_list/../video_pinball', 'slug': 'video_pinball'}, 'wizardofwor': {'name': 'WizardOfWor', 'modes': ['0'], 'default_mode': '0', 'difficulties': ['0', '1'], 'default_difficulty': '0', 'url': 'https://gymnasium.farama.org/environments/atari/complete_list/../wizard_of_wor', 'slug': 'wizard_of_wor'}, 'wordzapper': {'name': 'WordZapper', 'modes': ['0', '…', '23'], 'default_mode': '0', 'difficulties': ['0', '1', '2', '3'], 'default_difficulty': '0', 'url': 'https://gymnasium.farama.org/environments/atari/complete_list/../word_zapper', 'slug': 'word_zapper'}, 'yarsrevenge': {'name': 'YarsRevenge', 'modes': ['0', '32', '64', '96'], 'default_mode': '0', 'difficulties': ['0', '1'], 'default_difficulty': '0', 'url': 'https://gymnasium.farama.org/environments/atari/complete_list/../yars_revenge', 'slug': 'yars_revenge'}, 'zaxxon': {'name': 'Zaxxon', 'modes': ['0', '8', '16', '24'], 'default_mode': '0', 'difficulties': ['0'], 'default_difficulty': '0', 'url': 'https://gymnasium.farama.org/environments/atari/complete_list/../zaxxon', 'slug': 'zaxxon'}}\n"
     ]
    }
   ],
   "source": [
    "print(games)\n"
   ]
  },
  {
   "cell_type": "code",
   "execution_count": 7,
   "metadata": {},
   "outputs": [],
   "source": [
    "for game in games.values():\n",
    "    response = requests.get(game[\"url\"])\n",
    "    soup = BeautifulSoup(response.text, \"html.parser\")\n",
    "\n",
    "    game[\"soup\"] = soup\n"
   ]
  },
  {
   "cell_type": "code",
   "execution_count": 8,
   "metadata": {},
   "outputs": [],
   "source": [
    "for game in games.values():\n",
    "    txt = game[\"soup\"].find(class_=\"docutils literal notranslate\").text.strip()\n",
    "    game[\"env\"] = txt.split('\"')[1]\n"
   ]
  },
  {
   "cell_type": "code",
   "execution_count": 9,
   "metadata": {},
   "outputs": [],
   "source": [
    "for game in games.values():\n",
    "    game[\"description\"] = game[\"soup\"].find(id=\"description\").find(\"p\").text.strip()\n"
   ]
  },
  {
   "cell_type": "code",
   "execution_count": 10,
   "metadata": {},
   "outputs": [
    {
     "name": "stdout",
     "output_type": "stream",
     "text": [
      "You are Asterix and can move horizontally (continuously) and vertically (discretely). Objects move horizontally across the screen: lyres and other (more useful) objects. Your goal is to guideAsterix in such a way as to avoid lyres and collect as many other objects as possible. You score points by collecting objects and lose a life whenever you collect a lyre. You have three lives available at the beginning. If you score sufficiently many points, you will be awarded additional points.\n"
     ]
    }
   ],
   "source": [
    "print(games[\"asterix\"][\"description\"])\n"
   ]
  },
  {
   "cell_type": "code",
   "execution_count": 11,
   "metadata": {},
   "outputs": [],
   "source": [
    "from copy import deepcopy\n",
    "from json import dumps\n",
    "\n",
    "new_games = deepcopy(games)\n",
    "\n",
    "for game in new_games.values():\n",
    "    del game[\"soup\"]\n",
    "\n",
    "\n",
    "with open(\"games.json\", \"w\") as f:\n",
    "    f.write(dumps(new_games))\n"
   ]
  }
 ],
 "metadata": {
  "kernelspec": {
   "display_name": ".env-ipynb",
   "language": "python",
   "name": "python3"
  },
  "language_info": {
   "codemirror_mode": {
    "name": "ipython",
    "version": 3
   },
   "file_extension": ".py",
   "mimetype": "text/x-python",
   "name": "python",
   "nbconvert_exporter": "python",
   "pygments_lexer": "ipython3",
   "version": "3.11.4"
  }
 },
 "nbformat": 4,
 "nbformat_minor": 2
}
